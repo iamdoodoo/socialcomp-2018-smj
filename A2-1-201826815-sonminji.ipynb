{
 "cells": [
  {
   "cell_type": "markdown",
   "metadata": {},
   "source": [
    "# Assignment \\#2-1: Python Crash Course 1\n",
    "\n",
    "* 제출 방법: ETL (다음 주 일요일 9/19 자정까지)\n",
    "* 파일 이름: A2-1-학번-이름(영어로).iphynb 형식으로 (예: A2-1-13403-999-jiyoon.iphynb)"
   ]
  },
  {
   "cell_type": "markdown",
   "metadata": {},
   "source": [
    "#1. 다음의 프로그램을 작성하시오. (input()함수를 사용할 것)\n",
    "\n",
    "> 안녕하세요. 성을 입력해 주세요:  (성 입력의 예: 홍)\n",
    ">\n",
    "> 이름을 입력해 주세요:  (이름 입력의 예: 길동)\n",
    ">\n",
    "> 홍길동님의 나이는 몇살인가요: (나이 입력의 예: 30)\n",
    ">\n",
    "> 홍길동님은 지금까지 모두 ** xxxx **초를 살아왔군요.  \n",
    ">\n",
    "> 지금까지 이용해 주셔서 감사합니다. 홍길동님.\n",
    "\n",
    "(참고) 입력받은 나이는 숫자(int)가 아니라 문자열(string)임. 윤년 계산 등은 무시할 것."
   ]
  },
  {
   "cell_type": "code",
   "execution_count": 28,
   "metadata": {},
   "outputs": [
    {
     "name": "stdout",
     "output_type": "stream",
     "text": [
      "안녕하세요. 성을 입력해 주세요: (성 입력의 예: 홍)김\n",
      "이름을 입력해 주세요: (이름 입력의 예: 길동)말자\n",
      "김말자님의 나이는 몇살인가요: (나이 입력의 예: 30)22\n",
      "김말자님은 지금까지 모두 ** 503712000 **초를 살아왔군요.\n",
      "지금까지 이용해 주셔서 감사합니다. 김말자님.\n"
     ]
    }
   ],
   "source": [
    "first_name = input(\"안녕하세요. 성을 입력해 주세요: (성 입력의 예: 홍)\")\n",
    "last_name = input(\"이름을 입력해 주세요: (이름 입력의 예: 길동)\")\n",
    "name = first_name+last_name\n",
    "age_desc = name+\"님의 나이는 몇살인가요: (나이 입력의 예: 30)\"\n",
    "age = input(age_desc)\n",
    "print(\"%s님은 지금까지 모두 ** %s **초를 살아왔군요.\" % (name,int(age)*265*24*60*60))\n",
    "print(\"지금까지 이용해 주셔서 감사합니다. %s님.\" % (name))"
   ]
  },
  {
   "cell_type": "markdown",
   "metadata": {},
   "source": [
    "#2. 다음을 계산하는 메소드를 만들고 계산 예를 적으시오.\n",
    "\n",
    "> 섭씨 <-> 화씨 변환 \n",
    "\n",
    "> 인치 <-> 센치 변환\n",
    "\n",
    "출력의 예: \n",
    "\n",
    "> 섭씨 oo도는 화씨로 oo도 입니다.\n",
    "\n",
    "> oo인치는 oo센티미터 입니다.\n",
    "\n",
    "(참고) round() 함수를 사용해 보자: round() 함수는 지정한 소수점에서 반올림하여 결과를 표시한다.\n",
    "\n",
    "> round(3.954839283, 3) # 소수점 3째 자리에서 반올림\n",
    "\n",
    "> 3.955 "
   ]
  },
  {
   "cell_type": "code",
   "execution_count": 31,
   "metadata": {},
   "outputs": [
    {
     "name": "stdout",
     "output_type": "stream",
     "text": [
      "섭씨 30도는 화씨로 -1.1도 입니다.\n",
      "화씨 11도는 섭씨로 51.8도 입니다.\n",
      "10센티미터는 25.4인치입니다.\n",
      "24.5인치는 9.6센티미터입니다.\n"
     ]
    }
   ],
   "source": [
    "#섭씨<->화씨\n",
    "def cel_to_fah(x):\n",
    "    result = round((x-32)/1.8,1) \n",
    "    print(\"섭씨 %s도는 화씨로 %s도 입니다.\" % (str(x), str(result)))\n",
    "    \n",
    "def fah_to_cel(x):\n",
    "    result = round(x*1.8+32,2)\n",
    "    print(\"화씨 %s도는 섭씨로 %s도 입니다.\" % (str(x), str(result)))\n",
    "    \n",
    "cel_to_fah(30)\n",
    "fah_to_cel(11)\n",
    "\n",
    "#센티<->인치\n",
    "def cen_to_in(x):\n",
    "    result=round(x*2.54,2)\n",
    "    print(\"%s센티미터는 %s인치입니다.\" % (str(x), str(result)))\n",
    "    \n",
    "def in_to_cen(x):\n",
    "    result=round(x/2.54,1)\n",
    "    print(\"%s인치는 %s센티미터입니다.\" % (str(x), str(result)))\n",
    "    \n",
    "cen_to_in(10)\n",
    "in_to_cen(24.5)"
   ]
  },
  {
   "cell_type": "markdown",
   "metadata": {},
   "source": [
    "#3. 다음을 출력하는 프로그램을 작성하시오.\n",
    "\n",
    "> 오늘은 oooo년 o월 o일, 크리스마스까지는 oo일 이나 남았네. 이 수업도 이제 oo번 밖에 안남았구나!"
   ]
  },
  {
   "cell_type": "code",
   "execution_count": 25,
   "metadata": {},
   "outputs": [
    {
     "name": "stdout",
     "output_type": "stream",
     "text": [
      "오늘은 2018년 9월 12일, 크리스마스까지는 104일이나 남았네. 이 수업도 이제 14번 밖에 안남았구나!\n"
     ]
    }
   ],
   "source": [
    "from datetime import datetime, date\n",
    "#날짜 표시\n",
    "today = datetime.now()\n",
    "year=today.year\n",
    "month=today.month\n",
    "\n",
    "#남은 날수 계산\n",
    "td = date.today()\n",
    "cd = date(2018,12,25)\n",
    "leftdays = (cd-td).days\n",
    "\n",
    "#남은 수업 수 계산\n",
    "leftclass = (leftdays-1)//7\n",
    "\n",
    "print(\"오늘은 %s년 %s월 %s일, 크리스마스까지는 %s일이나 남았네. 이 수업도 이제 %s번 밖에 안남았구나!\" % (today.year, today.month, today.day,leftdays,leftclass))"
   ]
  },
  {
   "cell_type": "code",
   "execution_count": null,
   "metadata": {},
   "outputs": [],
   "source": []
  },
  {
   "cell_type": "code",
   "execution_count": null,
   "metadata": {},
   "outputs": [],
   "source": []
  }
 ],
 "metadata": {
  "kernelspec": {
   "display_name": "Python 3",
   "language": "python",
   "name": "python3"
  },
  "language_info": {
   "codemirror_mode": {
    "name": "ipython",
    "version": 3
   },
   "file_extension": ".py",
   "mimetype": "text/x-python",
   "name": "python",
   "nbconvert_exporter": "python",
   "pygments_lexer": "ipython3",
   "version": "3.6.6"
  }
 },
 "nbformat": 4,
 "nbformat_minor": 1
}
